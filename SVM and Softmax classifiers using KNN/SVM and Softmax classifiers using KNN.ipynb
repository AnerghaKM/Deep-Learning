{
  "cells": [
    {
      "cell_type": "markdown",
      "metadata": {
        "id": "k0390qFnvGcX"
      },
      "source": [
        "**SVM and Softmax classifiers using KNN , 3 layer NN**"
      ]
    },
    {
      "cell_type": "code",
      "execution_count": null,
      "metadata": {
        "colab": {
          "base_uri": "https://localhost:8080/"
        },
        "id": "JfyyTTpfvJMZ",
        "outputId": "554aa553-35d8-4f32-afce-bfe58feccc2d"
      },
      "outputs": [
        {
          "name": "stdout",
          "output_type": "stream",
          "text": [
            "Downloading data from https://www.cs.toronto.edu/~kriz/cifar-10-python.tar.gz\n",
            "170498071/170498071 [==============================] - 2s 0us/step\n",
            "(50000, 32, 32, 3) (50000, 1) (10000, 32, 32, 3) (10000, 1)\n"
          ]
        },
        {
          "data": {
            "text/plain": [
              "(5000, 32, 32, 3)"
            ]
          },
          "execution_count": 1,
          "metadata": {},
          "output_type": "execute_result"
        }
      ],
      "source": [
        "# @title Default title text\n",
        "import numpy as np\n",
        "import pickle\n",
        "from sklearn import preprocessing\n",
        "from sklearn.model_selection import train_test_split\n",
        "from sklearn.metrics import accuracy_score\n",
        "from sklearn.svm import SVC\n",
        "from sklearn.neighbors import KNeighborsClassifier\n",
        "import tensorflow as tf\n",
        "from tensorflow.keras import layers, models\n",
        "\n",
        "# Load CIFAR-10 dataset\n",
        "\n",
        "# Load in the data\n",
        "data = tf.keras.datasets.cifar10\n",
        "\n",
        "\n",
        "(X_train, y_train), (X_test, y_test) = data.load_data()\n",
        "print(X_train.shape, y_train.shape, X_test.shape, y_test.shape)\n",
        "\n",
        "# Reduce pixel values\n",
        "X_train, X_test = X_train/ 255.0, X_test/ 255.0\n",
        "\n",
        "# flatten the label values\n",
        "y_train, y_test = y_train.flatten(), y_test.flatten()\n",
        "\n",
        "# Reduce dataset size for quick testing\n",
        "# Using 5000 for training and 1000 for testing as an example\n",
        "X_train = X_train[:5000]\n",
        "y_train = y_train[:5000]\n",
        "X_test = X_test[:1000]\n",
        "y_test = y_test[:1000]\n",
        "X_train.shape\n",
        "\n"
      ]
    },
    {
      "cell_type": "markdown",
      "metadata": {
        "id": "T5OCnLZcx1oN"
      },
      "source": [
        "**SVM and Softmax classifiers using KNN**"
      ]
    },
    {
      "cell_type": "code",
      "execution_count": null,
      "metadata": {
        "colab": {
          "base_uri": "https://localhost:8080/"
        },
        "id": "o0nN3zAXvUZz",
        "outputId": "6ec8d0b9-af15-4210-9a79-3ded8dddf4fd"
      },
      "outputs": [
        {
          "name": "stdout",
          "output_type": "stream",
          "text": [
            "[1 1 8 0 4 3 3 6 4 1]\n",
            "SVM classifier using KNN Accuracy: 0.304\n",
            "Softmax classifier using KNN Accuracy: 0.277\n"
          ]
        }
      ],
      "source": [
        "# SVM classifier using KNN\n",
        "svm_knn = SVC(kernel='linear')\n",
        "X_train_flat = X_train.reshape(X_train.shape[0], -1)\n",
        "X_test_flat = X_test.reshape(X_test.shape[0], -1)\n",
        "svm_knn.fit(X_train_flat, y_train)\n",
        "svm_knn_predictions = svm_knn.predict(X_test_flat)\n",
        "print(svm_knn_predictions[:10])\n",
        "svm_knn_accuracy = accuracy_score(y_test, svm_knn_predictions)\n",
        "print(\"SVM classifier using KNN Accuracy:\", svm_knn_accuracy)\n",
        "\n",
        "# Softmax classifier using KNN\n",
        "softmax_knn = KNeighborsClassifier(n_neighbors=10)  # You can tune n_neighbors\n",
        "softmax_knn.fit(X_train_flat, y_train)\n",
        "softmax_knn_predictions = softmax_knn.predict(X_test_flat)\n",
        "softmax_knn_accuracy = accuracy_score(y_test, softmax_knn_predictions)\n",
        "print(\"Softmax classifier using KNN Accuracy:\", softmax_knn_accuracy)\n"
      ]
    },
    {
      "cell_type": "markdown",
      "metadata": {
        "id": "sSLoYiPTx_Zs"
      },
      "source": [
        "**SVM and Softmax classifiers using a 3-layer neural network**"
      ]
    },
    {
      "cell_type": "code",
      "execution_count": null,
      "metadata": {
        "colab": {
          "base_uri": "https://localhost:8080/"
        },
        "id": "4_83y2-ex4hZ",
        "outputId": "183277f1-2943-4b8f-edf5-3a6fe41a146f"
      },
      "outputs": [
        {
          "name": "stdout",
          "output_type": "stream",
          "text": [
            "SVM classifier using a 3-layer neural network Accuracy: 0.304\n",
            "Epoch 1/10\n",
            "79/79 [==============================] - 3s 7ms/step - loss: 2.2040 - accuracy: 0.1938 - val_loss: 2.0506 - val_accuracy: 0.2410\n",
            "Epoch 2/10\n",
            "79/79 [==============================] - 0s 4ms/step - loss: 1.9611 - accuracy: 0.2868 - val_loss: 1.9143 - val_accuracy: 0.3320\n",
            "Epoch 3/10\n",
            "79/79 [==============================] - 0s 4ms/step - loss: 1.8947 - accuracy: 0.3194 - val_loss: 1.8801 - val_accuracy: 0.3210\n",
            "Epoch 4/10\n",
            "79/79 [==============================] - 1s 7ms/step - loss: 1.8219 - accuracy: 0.3538 - val_loss: 1.9218 - val_accuracy: 0.3070\n",
            "Epoch 5/10\n",
            "79/79 [==============================] - 0s 5ms/step - loss: 1.8055 - accuracy: 0.3508 - val_loss: 1.8463 - val_accuracy: 0.3530\n",
            "Epoch 6/10\n",
            "79/79 [==============================] - 0s 5ms/step - loss: 1.7405 - accuracy: 0.3850 - val_loss: 1.7977 - val_accuracy: 0.3580\n",
            "Epoch 7/10\n",
            "79/79 [==============================] - 0s 5ms/step - loss: 1.7322 - accuracy: 0.3776 - val_loss: 1.7783 - val_accuracy: 0.3700\n",
            "Epoch 8/10\n",
            "79/79 [==============================] - 1s 7ms/step - loss: 1.6903 - accuracy: 0.3948 - val_loss: 1.7836 - val_accuracy: 0.3720\n",
            "Epoch 9/10\n",
            "79/79 [==============================] - 0s 4ms/step - loss: 1.6949 - accuracy: 0.3894 - val_loss: 1.7944 - val_accuracy: 0.3470\n",
            "Epoch 10/10\n",
            "79/79 [==============================] - 0s 4ms/step - loss: 1.6470 - accuracy: 0.4124 - val_loss: 1.7462 - val_accuracy: 0.3600\n",
            "32/32 [==============================] - 0s 2ms/step - loss: 1.7462 - accuracy: 0.3600\n",
            "Softmax classifier using a 3-layer neural network Accuracy: 0.36000001430511475\n"
          ]
        }
      ],
      "source": [
        "# SVM classifier using a 3-layer neural network\n",
        "svm_nn = SVC(kernel='linear')\n",
        "X_train_flat = X_train.reshape(X_train.shape[0], -1)\n",
        "X_test_flat = X_test.reshape(X_test.shape[0], -1)\n",
        "svm_nn.fit(X_train_flat, y_train)\n",
        "svm_nn_predictions = svm_nn.predict(X_test_flat)\n",
        "svm_nn_accuracy = accuracy_score(y_test, svm_nn_predictions)\n",
        "print(\"SVM classifier using a 3-layer neural network Accuracy:\", svm_nn_accuracy)\n",
        "\n",
        "# Softmax classifier using a 3-layer neural network\n",
        "softmax_nn = models.Sequential([\n",
        "    layers.Flatten(input_shape=(32, 32, 3)),\n",
        "    layers.Dense(128, activation='relu'),\n",
        "    layers.Dense(64, activation='relu'),\n",
        "    layers.Dense(10, activation='softmax')\n",
        "])\n",
        "\n",
        "softmax_nn.compile(optimizer='adam',\n",
        "                   loss='sparse_categorical_crossentropy',\n",
        "                   metrics=['accuracy'])\n",
        "\n",
        "history = softmax_nn.fit(X_train, y_train, epochs=10, batch_size=64, validation_data=(X_test, y_test))\n",
        "_, softmax_nn_accuracy = softmax_nn.evaluate(X_test, y_test)\n",
        "print(\"Softmax classifier using a 3-layer neural network Accuracy:\", softmax_nn_accuracy)\n"
      ]
    }
  ],
  "metadata": {
    "accelerator": "GPU",
    "colab": {
      "gpuType": "T4",
      "provenance": []
    },
    "kernelspec": {
      "display_name": "Python 3",
      "name": "python3"
    },
    "language_info": {
      "name": "python"
    }
  },
  "nbformat": 4,
  "nbformat_minor": 0
}
